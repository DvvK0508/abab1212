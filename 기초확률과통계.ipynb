{
  "nbformat": 4,
  "nbformat_minor": 0,
  "metadata": {
    "colab": {
      "provenance": []
    },
    "kernelspec": {
      "name": "python3",
      "display_name": "Python 3"
    },
    "language_info": {
      "name": "python"
    }
  },
  "cells": [
    {
      "cell_type": "code",
      "execution_count": 3,
      "metadata": {
        "colab": {
          "base_uri": "https://localhost:8080/"
        },
        "id": "nkYoBR67KPjL",
        "outputId": "57cfa5eb-5593-4b72-c604-c417b91c6801"
      },
      "outputs": [
        {
          "output_type": "stream",
          "name": "stdout",
          "text": [
            "유도겸 20060508\n"
          ]
        }
      ],
      "source": [
        "print('유도겸',20060508)"
      ]
    },
    {
      "cell_type": "code",
      "source": [],
      "metadata": {
        "id": "tJ2qQeioKbBZ"
      },
      "execution_count": null,
      "outputs": []
    }
  ]
}